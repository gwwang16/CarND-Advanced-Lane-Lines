{
 "cells": [
  {
   "cell_type": "code",
   "execution_count": 1,
   "metadata": {},
   "outputs": [],
   "source": [
    "import numpy as np\n",
    "import cv2\n",
    "import glob, os\n",
    "import matplotlib.pyplot as plt\n",
    "import PyQt5\n",
    "%matplotlib inline"
   ]
  },
  {
   "cell_type": "code",
   "execution_count": 2,
   "metadata": {},
   "outputs": [],
   "source": [
    "from ImageProcess import ImageProcess\n",
    "from LaneFinding import Lanes\n",
    "\n",
    "import pickle\n",
    "if not os.path.exists(\"./data/cali_pickle.p\"):\n",
    "    print(\"Run camera_calibraton.ipynb first.\")\n",
    "else:    \n",
    "    cali_pickle = pickle.load( open( \"./data/cali_pickle.p\", \"rb\" ))\n",
    "    \n",
    "ImageProcess = ImageProcess(cali_pickle)\n",
    "Lanes = Lanes(cali_pickle)"
   ]
  },
  {
   "cell_type": "code",
   "execution_count": 3,
   "metadata": {},
   "outputs": [],
   "source": [
    "def pipeline(img):\n",
    "    undistorted = ImageProcess.undistort(img)\n",
    "    combined_binary_color, combined_binary = ImageProcess.combine_thresh(undistorted)\n",
    "    warped = ImageProcess.perspective(combined_binary)\n",
    "    if (Lanes.left_fit_pre is None) or (Lanes.right_fit_pre is None) or (Lanes.lane_width < 2.5):\n",
    "        lines_img = Lanes.find_lines_initial(warped)\n",
    "    else:\n",
    "        lines_img = Lanes.find_lines(warped)\n",
    "        \n",
    "    left_curv, right_curv = Lanes.curvature()\n",
    "    offset, lane_width = Lanes.lane_offset()\n",
    "    lane_img = Lanes.draw_lane(img, warped)\n",
    "    \n",
    "    output_image = np.ones((img.shape[0] + 304, img.shape[1], 3))*255\n",
    "    output_image[0:img.shape[0], 0:img.shape[1]] = lane_img\n",
    "    \n",
    "    img1 = cv2.resize(combined_binary_color, (420,300))\n",
    "    img2 = cv2.resize(warped, (420,300))\n",
    "    img3 = cv2.resize(lines_img, (420,300))\n",
    "\n",
    "    output_image[-306:-6, 0:420] = img1*255\n",
    "    output_image[-306:-6, 430:850,0] = img2*255\n",
    "    output_image[-306:-6, 430:850,1] = img2*255\n",
    "    output_image[-306:-6, 430:850,2] = img2*255\n",
    "    output_image[-306:-6, 860:1280] = img3\n",
    "    \n",
    "    font_type = cv2.FONT_HERSHEY_DUPLEX \n",
    "    cv2.putText(output_image, \"Color Binary\", (30, 750), font_type, 0.8, (255,255,255), 2)\n",
    "    cv2.putText(output_image, \"Warped Image\", (460, 750), font_type, 0.8, (255,255,255), 2)\n",
    "    cv2.putText(output_image, \"Lines Fitting\", (890, 750), font_type, 0.8, (255,255,255), 2)\n",
    "    \n",
    "    text_curve_l = \"Left curvature: {:.2f} m\".format(left_curv)\n",
    "    text_curve_r = \"Right curvature: {:.2f} m\".format(right_curv)\n",
    "    text_offset = \"Lane offset: {:.2f} m\".format(offset)\n",
    "    \n",
    "    cv2.putText(output_image, text_curve_l, (40, 40), font_type, 0.8, (38,153,38), 2)\n",
    "    cv2.putText(output_image, text_curve_r, (40, 70), font_type, 0.8, (38,153,38), 2)\n",
    "    cv2.putText(output_image, text_offset, (40, 100), font_type, 0.8, (38,153,38), 2)\n",
    "    \n",
    "    return output_image"
   ]
  },
  {
   "cell_type": "code",
   "execution_count": 4,
   "metadata": {},
   "outputs": [
    {
     "name": "stdout",
     "output_type": "stream",
     "text": [
      "[MoviePy] >>>> Building video project_video_output.mp4\n",
      "[MoviePy] Writing video project_video_output.mp4\n"
     ]
    },
    {
     "name": "stderr",
     "output_type": "stream",
     "text": [
      "100%|█████████████████████████████████████▉| 1260/1261 [03:55<00:00,  5.38it/s]\n"
     ]
    },
    {
     "name": "stdout",
     "output_type": "stream",
     "text": [
      "[MoviePy] Done.\n",
      "[MoviePy] >>>> Video ready: project_video_output.mp4 \n",
      "\n",
      "Wall time: 3min 55s\n"
     ]
    }
   ],
   "source": [
    "from moviepy.editor import VideoFileClip\n",
    "video_output = 'project_video_output.mp4'\n",
    "clip1 = VideoFileClip(\"project_video.mp4\");\n",
    "white_clip = clip1.fl_image(pipeline) \n",
    "%time white_clip.write_videofile(video_output, audio = False);"
   ]
  },
  {
   "cell_type": "code",
   "execution_count": 6,
   "metadata": {},
   "outputs": [
    {
     "data": {
      "text/html": [
       "\n",
       "<video width=\"800\" height=\"600\" controls>\n",
       "  <source src=\"project_video_output.mp4\">\n",
       "</video>\n"
      ],
      "text/plain": [
       "<IPython.core.display.HTML object>"
      ]
     },
     "execution_count": 6,
     "metadata": {},
     "output_type": "execute_result"
    }
   ],
   "source": [
    "from IPython.display import HTML\n",
    "HTML(\"\"\"\n",
    "<video width=\"800\" height=\"600\" controls>\n",
    "  <source src=\"{0}\">\n",
    "</video>\n",
    "\"\"\".format(video_output))"
   ]
  },
  {
   "cell_type": "code",
   "execution_count": 7,
   "metadata": {},
   "outputs": [
    {
     "name": "stdout",
     "output_type": "stream",
     "text": [
      "[MoviePy] >>>> Building video challenge_video_output.mp4\n",
      "[MoviePy] Writing video challenge_video_output.mp4\n"
     ]
    },
    {
     "name": "stderr",
     "output_type": "stream",
     "text": [
      "100%|████████████████████████████████████████| 485/485 [01:29<00:00,  5.68it/s]\n"
     ]
    },
    {
     "name": "stdout",
     "output_type": "stream",
     "text": [
      "[MoviePy] Done.\n",
      "[MoviePy] >>>> Video ready: challenge_video_output.mp4 \n",
      "\n",
      "Wall time: 1min 29s\n"
     ]
    }
   ],
   "source": [
    "video_output2 = 'challenge_video_output.mp4'\n",
    "clip2 = VideoFileClip(\"challenge_video.mp4\");\n",
    "white_clip = clip2.fl_image(pipeline) \n",
    "%time white_clip.write_videofile(video_output2, audio = False);"
   ]
  },
  {
   "cell_type": "code",
   "execution_count": 8,
   "metadata": {},
   "outputs": [
    {
     "data": {
      "text/html": [
       "\n",
       "<video width=\"640\" height=\"360\" controls>\n",
       "  <source src=\"challenge_video_output.mp4\">\n",
       "</video>\n"
      ],
      "text/plain": [
       "<IPython.core.display.HTML object>"
      ]
     },
     "execution_count": 8,
     "metadata": {},
     "output_type": "execute_result"
    }
   ],
   "source": [
    "from IPython.display import HTML\n",
    "HTML(\"\"\"\n",
    "<video width=\"640\" height=\"360\" controls>\n",
    "  <source src=\"{0}\">\n",
    "</video>\n",
    "\"\"\".format(video_output2))"
   ]
  },
  {
   "cell_type": "code",
   "execution_count": null,
   "metadata": {},
   "outputs": [],
   "source": [
    "video_output3 = 'harder_challenge_video_output.mp4'\n",
    "clip3 = VideoFileClip(\"harder_challenge_video.mp4\");\n",
    "white_clip = clip3.fl_image(pipeline) \n",
    "%time white_clip.write_videofile(video_output3, audio = False);"
   ]
  },
  {
   "cell_type": "code",
   "execution_count": null,
   "metadata": {},
   "outputs": [],
   "source": [
    "from IPython.display import HTML\n",
    "HTML(\"\"\"\n",
    "<video width=\"640\" height=\"360\" controls>\n",
    "  <source src=\"{0}\">\n",
    "</video>\n",
    "\"\"\".format(video_output3))"
   ]
  },
  {
   "cell_type": "code",
   "execution_count": null,
   "metadata": {},
   "outputs": [],
   "source": []
  }
 ],
 "metadata": {
  "kernelspec": {
   "display_name": "Python [conda env:RoboND]",
   "language": "python",
   "name": "conda-env-RoboND-py"
  },
  "language_info": {
   "codemirror_mode": {
    "name": "ipython",
    "version": 3
   },
   "file_extension": ".py",
   "mimetype": "text/x-python",
   "name": "python",
   "nbconvert_exporter": "python",
   "pygments_lexer": "ipython3",
   "version": "3.5.4"
  }
 },
 "nbformat": 4,
 "nbformat_minor": 2
}
